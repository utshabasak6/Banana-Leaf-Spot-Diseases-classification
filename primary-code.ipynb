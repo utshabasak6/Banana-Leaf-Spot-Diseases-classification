{
 "cells": [
  {
   "cell_type": "code",
   "execution_count": 1,
   "id": "20bda439",
   "metadata": {
    "_cell_guid": "b1076dfc-b9ad-4769-8c92-a6c4dae69d19",
    "_uuid": "8f2839f25d086af736a60e9eeb907d3b93b6e0e5",
    "execution": {
     "iopub.execute_input": "2023-11-28T17:16:35.902963Z",
     "iopub.status.busy": "2023-11-28T17:16:35.902241Z",
     "iopub.status.idle": "2023-11-28T17:16:46.623719Z",
     "shell.execute_reply": "2023-11-28T17:16:46.622693Z"
    },
    "papermill": {
     "duration": 10.730666,
     "end_time": "2023-11-28T17:16:46.626081",
     "exception": false,
     "start_time": "2023-11-28T17:16:35.895415",
     "status": "completed"
    },
    "tags": []
   },
   "outputs": [
    {
     "name": "stderr",
     "output_type": "stream",
     "text": [
      "/opt/conda/lib/python3.10/site-packages/scipy/__init__.py:146: UserWarning: A NumPy version >=1.16.5 and <1.23.0 is required for this version of SciPy (detected version 1.24.3\n",
      "  warnings.warn(f\"A NumPy version >={np_minversion} and <{np_maxversion}\"\n"
     ]
    }
   ],
   "source": [
    "import numpy as np\n",
    "import pandas as pd\n",
    "from PIL import Image\n",
    "import os\n",
    "import glob\n",
    "import cv2\n",
    "import torch\n",
    "from torch.utils.data import Dataset,DataLoader\n",
    "import albumentations as A\n",
    "from albumentations.pytorch import ToTensorV2\n",
    "import torchvision.transforms as transforms\n",
    "from sklearn.model_selection import StratifiedKFold\n",
    "import timm\n",
    "import matplotlib.pyplot as plt\n",
    "import random\n",
    "import torch\n",
    "import torch.nn as nn\n",
    "import pytorch_lightning as pl\n",
    "from torch.optim.lr_scheduler import CosineAnnealingLR, CosineAnnealingWarmRestarts, ReduceLROnPlateau, OneCycleLR\n",
    "from pytorch_lightning import Trainer, seed_everything\n",
    "import torch.nn.functional as F\n",
    "from torchmetrics import Accuracy,Precision,Recall,F1Score\n",
    "from pytorch_lightning.loggers import TensorBoardLogger\n",
    "from pytorch_lightning.loggers import WandbLogger\n",
    "from pytorch_lightning.callbacks import ModelCheckpoint, BackboneFinetuning, EarlyStopping\n",
    "import wandb\n",
    "from tqdm.notebook import tqdm\n",
    "from sklearn.metrics import classification_report, confusion_matrix\n",
    "from sklearn.model_selection import train_test_split\n",
    "from sklearn.metrics import precision_recall_fscore_support\n",
    "\n",
    "from torch import tensor\n",
    "from torchmetrics.classification import MultilabelAccuracy\n",
    "from torch.nn import Sigmoid\n",
    "from sklearn.utils import shuffle\n",
    "from torchmetrics.classification import MultilabelF1Score\n",
    "from sklearn.metrics import f1_score"
   ]
  },
  {
   "cell_type": "code",
   "execution_count": 2,
   "id": "29821174",
   "metadata": {
    "execution": {
     "iopub.execute_input": "2023-11-28T17:16:46.637983Z",
     "iopub.status.busy": "2023-11-28T17:16:46.637119Z",
     "iopub.status.idle": "2023-11-28T17:16:48.848728Z",
     "shell.execute_reply": "2023-11-28T17:16:48.847935Z"
    },
    "papermill": {
     "duration": 2.220029,
     "end_time": "2023-11-28T17:16:48.851158",
     "exception": false,
     "start_time": "2023-11-28T17:16:46.631129",
     "status": "completed"
    },
    "tags": []
   },
   "outputs": [],
   "source": [
    "def create_csv(dataset_path, output_csv_path):\n",
    "    data = {'path': [], 'class': []}\n",
    "\n",
    "    for class_folder in os.listdir(dataset_path):\n",
    "        class_path = os.path.join(dataset_path, class_folder)\n",
    "        if os.path.isdir(class_path):\n",
    "            for image_file in os.listdir(class_path):\n",
    "                if image_file.endswith('.jpg') or image_file.endswith('.png'):\n",
    "                    image_path = os.path.join(class_path, image_file)\n",
    "                    data['path'].append(image_path)\n",
    "                    data['class'].append(class_folder)\n",
    "\n",
    "    df = pd.DataFrame(data)\n",
    "    df.to_csv(output_csv_path, index=False)\n",
    "\n",
    "# Replace these paths with your actual paths\n",
    "train_dataset_path = '/kaggle/input/resized-orginal-data-set-gbbsl/resized dataset (256,256) BDSL/Train Data'\n",
    "test_dataset_path = '/kaggle/input/resized-orginal-data-set-gbbsl/resized dataset (256,256) BDSL/Test Data'\n",
    "\n",
    "train_output_csv = '/kaggle/working/train.csv'\n",
    "test_output_csv = '/kaggle/working/test.csv'\n",
    "\n",
    "create_csv(train_dataset_path, train_output_csv)\n",
    "create_csv(test_dataset_path, test_output_csv)"
   ]
  },
  {
   "cell_type": "code",
   "execution_count": 3,
   "id": "9e194cc2",
   "metadata": {
    "execution": {
     "iopub.execute_input": "2023-11-28T17:16:48.862422Z",
     "iopub.status.busy": "2023-11-28T17:16:48.861580Z",
     "iopub.status.idle": "2023-11-28T17:16:48.956290Z",
     "shell.execute_reply": "2023-11-28T17:16:48.955201Z"
    },
    "papermill": {
     "duration": 0.102667,
     "end_time": "2023-11-28T17:16:48.958528",
     "exception": false,
     "start_time": "2023-11-28T17:16:48.855861",
     "status": "completed"
    },
    "tags": []
   },
   "outputs": [],
   "source": [
    "class Config :\n",
    "    device = torch.device('cuda' if torch.cuda.is_available() else 'cpu')\n",
    "    train_df = pd.read_csv('/kaggle/working/train.csv')\n",
    "    test_df = pd.read_csv('/kaggle/working/test.csv')"
   ]
  },
  {
   "cell_type": "code",
   "execution_count": 4,
   "id": "e1480e43",
   "metadata": {
    "execution": {
     "iopub.execute_input": "2023-11-28T17:16:48.969624Z",
     "iopub.status.busy": "2023-11-28T17:16:48.968761Z",
     "iopub.status.idle": "2023-11-28T17:16:48.975647Z",
     "shell.execute_reply": "2023-11-28T17:16:48.974724Z"
    },
    "papermill": {
     "duration": 0.014489,
     "end_time": "2023-11-28T17:16:48.977653",
     "exception": false,
     "start_time": "2023-11-28T17:16:48.963164",
     "status": "completed"
    },
    "tags": []
   },
   "outputs": [],
   "source": [
    "train_transform = transforms.Compose([\n",
    "    transforms.Resize((176, 176)),\n",
    "    transforms.Grayscale(num_output_channels=3),\n",
    "    transforms.ToTensor(),\n",
    "    transforms.Normalize((0.5,), (0.5,))\n",
    "])\n",
    "\n",
    "test_transform = transforms.Compose([\n",
    "    transforms.Resize((176,176)),\n",
    "    transforms.Grayscale(num_output_channels=3),\n",
    "    transforms.ToTensor(),\n",
    "    transforms.Normalize((0.5,),(0.5,))\n",
    "])"
   ]
  },
  {
   "cell_type": "code",
   "execution_count": 5,
   "id": "4442c555",
   "metadata": {
    "execution": {
     "iopub.execute_input": "2023-11-28T17:16:48.988128Z",
     "iopub.status.busy": "2023-11-28T17:16:48.987759Z",
     "iopub.status.idle": "2023-11-28T17:16:49.204099Z",
     "shell.execute_reply": "2023-11-28T17:16:49.203010Z"
    },
    "papermill": {
     "duration": 0.224234,
     "end_time": "2023-11-28T17:16:49.206479",
     "exception": false,
     "start_time": "2023-11-28T17:16:48.982245",
     "status": "completed"
    },
    "tags": []
   },
   "outputs": [],
   "source": [
    "import os\n",
    "import pandas as pd\n",
    "\n",
    "def create_csv(dataset_path, output_csv_path):\n",
    "    data = {'path': [], 'class': []}\n",
    "\n",
    "    for class_folder in os.listdir(dataset_path):\n",
    "        class_path = os.path.join(dataset_path, class_folder)\n",
    "        if os.path.isdir(class_path):\n",
    "            for image_file in os.listdir(class_path):\n",
    "                if image_file.endswith('.jpg') or image_file.endswith('.png'):\n",
    "                    image_path = os.path.join(class_path, image_file)\n",
    "                    # Extract only the numeric part from the class_folder\n",
    "                    class_numeric = ''.join(filter(str.isdigit, class_folder))\n",
    "                    data['path'].append(image_path)\n",
    "                    data['class'].append(class_numeric)\n",
    "\n",
    "    df = pd.DataFrame(data)\n",
    "    df.to_csv(output_csv_path, index=False)\n",
    "\n",
    "# Replace these paths with your actual paths\n",
    "train_dataset_path = '/kaggle/input/resized-orginal-data-set-gbbsl/resized dataset (256,256) BDSL/Train Data'\n",
    "test_dataset_path = '/kaggle/input/resized-orginal-data-set-gbbsl/resized dataset (256,256) BDSL/Test Data'\n",
    "\n",
    "train_output_csv = '/kaggle/working/train.csv'\n",
    "test_output_csv = '/kaggle/working/test.csv'\n",
    "\n",
    "create_csv(train_dataset_path, train_output_csv)\n",
    "create_csv(test_dataset_path, test_output_csv)"
   ]
  },
  {
   "cell_type": "code",
   "execution_count": 6,
   "id": "1c3f553f",
   "metadata": {
    "execution": {
     "iopub.execute_input": "2023-11-28T17:16:49.217401Z",
     "iopub.status.busy": "2023-11-28T17:16:49.217033Z",
     "iopub.status.idle": "2023-11-28T17:16:49.245221Z",
     "shell.execute_reply": "2023-11-28T17:16:49.244289Z"
    },
    "papermill": {
     "duration": 0.036228,
     "end_time": "2023-11-28T17:16:49.247536",
     "exception": false,
     "start_time": "2023-11-28T17:16:49.211308",
     "status": "completed"
    },
    "tags": []
   },
   "outputs": [],
   "source": [
    "train_df = pd.read_csv('/kaggle/working/train.csv')\n",
    "test_df = pd.read_csv('/kaggle/working/test.csv')"
   ]
  },
  {
   "cell_type": "code",
   "execution_count": 7,
   "id": "a7ca66bc",
   "metadata": {
    "execution": {
     "iopub.execute_input": "2023-11-28T17:16:49.258545Z",
     "iopub.status.busy": "2023-11-28T17:16:49.258171Z",
     "iopub.status.idle": "2023-11-28T17:16:49.266033Z",
     "shell.execute_reply": "2023-11-28T17:16:49.265075Z"
    },
    "papermill": {
     "duration": 0.015664,
     "end_time": "2023-11-28T17:16:49.268026",
     "exception": false,
     "start_time": "2023-11-28T17:16:49.252362",
     "status": "completed"
    },
    "tags": []
   },
   "outputs": [],
   "source": [
    "class BDSLdataset(Dataset):\n",
    "    \n",
    "    def __init__(self, df, transform=None, unlabelled=False):\n",
    "        self.df = df\n",
    "        self.transform = transform\n",
    "        self.unlabelled = unlabelled\n",
    "        \n",
    "    def __len__(self):\n",
    "        return len(self.df)\n",
    "    \n",
    "    def __getitem__(self, idx):\n",
    "        row = self.df.iloc[idx]\n",
    "        img_path = row.path\n",
    "        \n",
    "        if self.unlabelled:\n",
    "            image = Image.open(img_path)\n",
    "        else:\n",
    "            image = Image.open(img_path)\n",
    "    \n",
    "        if self.transform:\n",
    "            tensor_image = self.transform(image)\n",
    "        \n",
    "        if self.unlabelled:\n",
    "            return tensor_image\n",
    "        else:\n",
    "            label = row['class']\n",
    "            tensor_label = torch.tensor(label, dtype=torch.float32)\n",
    "            \n",
    "            return tensor_image, tensor_label"
   ]
  },
  {
   "cell_type": "code",
   "execution_count": 8,
   "id": "68399ba8",
   "metadata": {
    "execution": {
     "iopub.execute_input": "2023-11-28T17:16:49.279067Z",
     "iopub.status.busy": "2023-11-28T17:16:49.278672Z",
     "iopub.status.idle": "2023-11-28T17:16:49.283618Z",
     "shell.execute_reply": "2023-11-28T17:16:49.282655Z"
    },
    "papermill": {
     "duration": 0.012709,
     "end_time": "2023-11-28T17:16:49.285578",
     "exception": false,
     "start_time": "2023-11-28T17:16:49.272869",
     "status": "completed"
    },
    "tags": []
   },
   "outputs": [],
   "source": [
    "train_dataset = BDSLdataset(train_df,transform=train_transform,unlabelled=False)\n",
    "test_dataset = BDSLdataset(test_df,transform=test_transform,unlabelled=False)"
   ]
  },
  {
   "cell_type": "code",
   "execution_count": 9,
   "id": "dfc44858",
   "metadata": {
    "execution": {
     "iopub.execute_input": "2023-11-28T17:16:49.296850Z",
     "iopub.status.busy": "2023-11-28T17:16:49.296139Z",
     "iopub.status.idle": "2023-11-28T17:16:49.301851Z",
     "shell.execute_reply": "2023-11-28T17:16:49.300897Z"
    },
    "papermill": {
     "duration": 0.013592,
     "end_time": "2023-11-28T17:16:49.303908",
     "exception": false,
     "start_time": "2023-11-28T17:16:49.290316",
     "status": "completed"
    },
    "tags": []
   },
   "outputs": [],
   "source": [
    "train_loader = DataLoader(\n",
    "    train_dataset,\n",
    "    batch_size = 16,\n",
    "    shuffle = True,\n",
    "    pin_memory = False,\n",
    "    drop_last = True,\n",
    "    num_workers = 2\n",
    ")\n",
    "\n",
    "test_loader = DataLoader(\n",
    "    test_dataset,\n",
    "    batch_size = 16,\n",
    "    shuffle = False,\n",
    "    pin_memory = False,\n",
    "    num_workers = 2,\n",
    "    drop_last=True\n",
    ")"
   ]
  },
  {
   "cell_type": "code",
   "execution_count": 10,
   "id": "d855594a",
   "metadata": {
    "execution": {
     "iopub.execute_input": "2023-11-28T17:16:49.315177Z",
     "iopub.status.busy": "2023-11-28T17:16:49.314300Z",
     "iopub.status.idle": "2023-11-28T17:16:49.325130Z",
     "shell.execute_reply": "2023-11-28T17:16:49.324178Z"
    },
    "papermill": {
     "duration": 0.018633,
     "end_time": "2023-11-28T17:16:49.327227",
     "exception": false,
     "start_time": "2023-11-28T17:16:49.308594",
     "status": "completed"
    },
    "tags": []
   },
   "outputs": [
    {
     "name": "stdout",
     "output_type": "stream",
     "text": [
      "Number of unique numbers in the 'class' column: 49\n"
     ]
    }
   ],
   "source": [
    "unique_numbers_count = train_df['class'].nunique()\n",
    "print(\"Number of unique numbers in the 'class' column:\", unique_numbers_count)"
   ]
  },
  {
   "cell_type": "code",
   "execution_count": 11,
   "id": "1fc8d2a9",
   "metadata": {
    "execution": {
     "iopub.execute_input": "2023-11-28T17:16:49.338374Z",
     "iopub.status.busy": "2023-11-28T17:16:49.338011Z",
     "iopub.status.idle": "2023-11-28T17:16:49.344362Z",
     "shell.execute_reply": "2023-11-28T17:16:49.343416Z"
    },
    "papermill": {
     "duration": 0.01439,
     "end_time": "2023-11-28T17:16:49.346488",
     "exception": false,
     "start_time": "2023-11-28T17:16:49.332098",
     "status": "completed"
    },
    "tags": []
   },
   "outputs": [],
   "source": [
    "class OliveBackBone(nn.Module):\n",
    "    \n",
    "    def __init__(self,num_classes=49,model_name='cspresnet50',pretrained=True):\n",
    "        super(OliveBackBone,self).__init__()\n",
    "        self.model =timm.create_model(model_name,pretrained=pretrained)\n",
    "        self.model.head.fc = nn.Linear(self.model.head.fc.in_features, num_classes)\n",
    "\n",
    "        \n",
    "    def forward(self,x):\n",
    "        x = self.model(x) \n",
    "        return x"
   ]
  },
  {
   "cell_type": "code",
   "execution_count": 12,
   "id": "dfcf259f",
   "metadata": {
    "execution": {
     "iopub.execute_input": "2023-11-28T17:16:49.358457Z",
     "iopub.status.busy": "2023-11-28T17:16:49.357535Z",
     "iopub.status.idle": "2023-11-28T17:16:54.150297Z",
     "shell.execute_reply": "2023-11-28T17:16:54.149482Z"
    },
    "papermill": {
     "duration": 4.801281,
     "end_time": "2023-11-28T17:16:54.152608",
     "exception": false,
     "start_time": "2023-11-28T17:16:49.351327",
     "status": "completed"
    },
    "tags": []
   },
   "outputs": [
    {
     "data": {
      "application/vnd.jupyter.widget-view+json": {
       "model_id": "4df29a32dedf4d778123b18a2a5e1721",
       "version_major": 2,
       "version_minor": 0
      },
      "text/plain": [
       "Downloading model.safetensors:   0%|          | 0.00/86.7M [00:00<?, ?B/s]"
      ]
     },
     "metadata": {},
     "output_type": "display_data"
    }
   ],
   "source": [
    "device = Config.device\n",
    "model =OliveBackBone().to(device)\n",
    "optim = torch.optim.AdamW(model.parameters(), lr=3e-4, weight_decay=0.001)\n",
    "loss_fn = nn.CrossEntropyLoss()"
   ]
  },
  {
   "cell_type": "code",
   "execution_count": 13,
   "id": "9b8dba37",
   "metadata": {
    "execution": {
     "iopub.execute_input": "2023-11-28T17:16:54.164003Z",
     "iopub.status.busy": "2023-11-28T17:16:54.163643Z",
     "iopub.status.idle": "2023-11-28T17:17:59.008538Z",
     "shell.execute_reply": "2023-11-28T17:17:59.007324Z"
    },
    "papermill": {
     "duration": 64.852991,
     "end_time": "2023-11-28T17:17:59.010577",
     "exception": false,
     "start_time": "2023-11-28T17:16:54.157586",
     "status": "completed"
    },
    "tags": []
   },
   "outputs": [
    {
     "data": {
      "application/vnd.jupyter.widget-view+json": {
       "model_id": "54db386743cb4c2098b8ca9f8a912286",
       "version_major": 2,
       "version_minor": 0
      },
      "text/plain": [
       "  0%|          | 0/736 [00:00<?, ?it/s]"
      ]
     },
     "metadata": {},
     "output_type": "display_data"
    },
    {
     "name": "stdout",
     "output_type": "stream",
     "text": [
      "Training Epoch [1/1], Loss: 0.6864, Accuracy: 0.8169\n"
     ]
    },
    {
     "data": {
      "application/vnd.jupyter.widget-view+json": {
       "model_id": "0e45fec3c99047fd8babf82aac2e29e4",
       "version_major": 2,
       "version_minor": 0
      },
      "text/plain": [
       "  0%|          | 0/183 [00:00<?, ?it/s]"
      ]
     },
     "metadata": {},
     "output_type": "display_data"
    },
    {
     "name": "stdout",
     "output_type": "stream",
     "text": [
      "Validation Epoch [1/1], Loss: 0.1799, Accuracy: 0.9426\n"
     ]
    }
   ],
   "source": [
    "num_epochs = 1\n",
    "best_val_accuracy = 0.0\n",
    "\n",
    "for epoch in range(num_epochs):\n",
    "    model.train()\n",
    "    train_loss = 0.0\n",
    "    correct_train = 0\n",
    "    total_train = 0\n",
    "\n",
    "    for images, labels in tqdm(train_loader):\n",
    "        images, labels = images.to(device), labels.to(device)\n",
    "\n",
    "        # Zero the gradients\n",
    "        optim.zero_grad()\n",
    "\n",
    "        # Forward pass\n",
    "        outputs = model(images)\n",
    "        loss = loss_fn(outputs, labels.long())  # Assuming labels are LongTensor\n",
    "\n",
    "        # Backward pass\n",
    "        loss.backward()\n",
    "\n",
    "        # Update weights\n",
    "        optim.step()\n",
    "\n",
    "        # Update statistics\n",
    "        train_loss += loss.item()\n",
    "\n",
    "        _, predicted = torch.max(outputs.data, 1)\n",
    "        total_train += labels.size(0)\n",
    "        correct_train += (predicted == labels).sum().item()\n",
    "\n",
    "    # Calculate average training loss and accuracy\n",
    "    avg_train_loss = train_loss / len(train_loader)\n",
    "    train_accuracy = correct_train / total_train\n",
    "\n",
    "    # Print training epoch statistics\n",
    "    print(f'Training Epoch [{epoch + 1}/{num_epochs}], '\n",
    "          f'Loss: {avg_train_loss:.4f}, Accuracy: {train_accuracy:.4f}')\n",
    "    # Validation loop\n",
    "    model.eval()\n",
    "    val_loss = 0.0\n",
    "    correct_val = 0\n",
    "    total_val = 0\n",
    "\n",
    "    with torch.no_grad():\n",
    "        for images, labels in tqdm(test_loader):\n",
    "            images, labels = images.to(device), labels.to(device)\n",
    "\n",
    "            # Forward pass\n",
    "            outputs = model(images)\n",
    "            loss = loss_fn(outputs, labels.long())\n",
    "\n",
    "            # Update statistics\n",
    "            val_loss += loss.item()\n",
    "\n",
    "            _, predicted = torch.max(outputs.data, 1)\n",
    "            total_val += labels.size(0)\n",
    "            correct_val += (predicted == labels).sum().item()\n",
    "\n",
    "    # Calculate average validation loss and accuracy\n",
    "    avg_val_loss = val_loss / len(test_loader)\n",
    "    val_accuracy = correct_val / total_val\n",
    "\n",
    "    # Print validation epoch statistics\n",
    "    print(f'Validation Epoch [{epoch + 1}/{num_epochs}], '\n",
    "          f'Loss: {avg_val_loss:.4f}, Accuracy: {val_accuracy:.4f}')"
   ]
  }
 ],
 "metadata": {
  "kaggle": {
   "accelerator": "gpu",
   "dataSources": [
    {
     "datasetId": 4057916,
     "sourceId": 7051010,
     "sourceType": "datasetVersion"
    }
   ],
   "dockerImageVersionId": 30587,
   "isGpuEnabled": true,
   "isInternetEnabled": true,
   "language": "python",
   "sourceType": "notebook"
  },
  "kernelspec": {
   "display_name": "Python 3",
   "language": "python",
   "name": "python3"
  },
  "language_info": {
   "codemirror_mode": {
    "name": "ipython",
    "version": 3
   },
   "file_extension": ".py",
   "mimetype": "text/x-python",
   "name": "python",
   "nbconvert_exporter": "python",
   "pygments_lexer": "ipython3",
   "version": "3.10.12"
  },
  "papermill": {
   "default_parameters": {},
   "duration": 89.602907,
   "end_time": "2023-11-28T17:18:01.953012",
   "environment_variables": {},
   "exception": null,
   "input_path": "__notebook__.ipynb",
   "output_path": "__notebook__.ipynb",
   "parameters": {},
   "start_time": "2023-11-28T17:16:32.350105",
   "version": "2.4.0"
  },
  "widgets": {
   "application/vnd.jupyter.widget-state+json": {
    "state": {
     "07e08918dcf24ce687dd7ec8c769fd3c": {
      "model_module": "@jupyter-widgets/controls",
      "model_module_version": "1.5.0",
      "model_name": "HTMLModel",
      "state": {
       "_dom_classes": [],
       "_model_module": "@jupyter-widgets/controls",
       "_model_module_version": "1.5.0",
       "_model_name": "HTMLModel",
       "_view_count": null,
       "_view_module": "@jupyter-widgets/controls",
       "_view_module_version": "1.5.0",
       "_view_name": "HTMLView",
       "description": "",
       "description_tooltip": null,
       "layout": "IPY_MODEL_382e2245fa4f4b1ba591f763555c3e38",
       "placeholder": "​",
       "style": "IPY_MODEL_7bb3379018644fc3bdaac4c363364105",
       "value": " 736/736 [00:55&lt;00:00, 15.01it/s]"
      }
     },
     "0dc164e349e7420aae58df26bc510711": {
      "model_module": "@jupyter-widgets/controls",
      "model_module_version": "1.5.0",
      "model_name": "FloatProgressModel",
      "state": {
       "_dom_classes": [],
       "_model_module": "@jupyter-widgets/controls",
       "_model_module_version": "1.5.0",
       "_model_name": "FloatProgressModel",
       "_view_count": null,
       "_view_module": "@jupyter-widgets/controls",
       "_view_module_version": "1.5.0",
       "_view_name": "ProgressView",
       "bar_style": "success",
       "description": "",
       "description_tooltip": null,
       "layout": "IPY_MODEL_73f140b85c5a426bbce0dc075a00a9e0",
       "max": 183.0,
       "min": 0.0,
       "orientation": "horizontal",
       "style": "IPY_MODEL_1a13cad0a6bb47818e5bcb3ee13c2435",
       "value": 183.0
      }
     },
     "0e45fec3c99047fd8babf82aac2e29e4": {
      "model_module": "@jupyter-widgets/controls",
      "model_module_version": "1.5.0",
      "model_name": "HBoxModel",
      "state": {
       "_dom_classes": [],
       "_model_module": "@jupyter-widgets/controls",
       "_model_module_version": "1.5.0",
       "_model_name": "HBoxModel",
       "_view_count": null,
       "_view_module": "@jupyter-widgets/controls",
       "_view_module_version": "1.5.0",
       "_view_name": "HBoxView",
       "box_style": "",
       "children": [
        "IPY_MODEL_78cf54ac2c7446caad7712f0a260164d",
        "IPY_MODEL_0dc164e349e7420aae58df26bc510711",
        "IPY_MODEL_b2dd8be2e7304f90924a8bf944083e72"
       ],
       "layout": "IPY_MODEL_ac7492ef57be4e7cb3c0204514f0f407"
      }
     },
     "13ce8dec78ad4f979f5d75b044060c90": {
      "model_module": "@jupyter-widgets/controls",
      "model_module_version": "1.5.0",
      "model_name": "HTMLModel",
      "state": {
       "_dom_classes": [],
       "_model_module": "@jupyter-widgets/controls",
       "_model_module_version": "1.5.0",
       "_model_name": "HTMLModel",
       "_view_count": null,
       "_view_module": "@jupyter-widgets/controls",
       "_view_module_version": "1.5.0",
       "_view_name": "HTMLView",
       "description": "",
       "description_tooltip": null,
       "layout": "IPY_MODEL_c2b5b8b633504abe8a8c8771873f1a53",
       "placeholder": "​",
       "style": "IPY_MODEL_29b075d6d2e74f0f949e9a3eff4d6d34",
       "value": " 86.7M/86.7M [00:00&lt;00:00, 254MB/s]"
      }
     },
     "1a13cad0a6bb47818e5bcb3ee13c2435": {
      "model_module": "@jupyter-widgets/controls",
      "model_module_version": "1.5.0",
      "model_name": "ProgressStyleModel",
      "state": {
       "_model_module": "@jupyter-widgets/controls",
       "_model_module_version": "1.5.0",
       "_model_name": "ProgressStyleModel",
       "_view_count": null,
       "_view_module": "@jupyter-widgets/base",
       "_view_module_version": "1.2.0",
       "_view_name": "StyleView",
       "bar_color": null,
       "description_width": ""
      }
     },
     "29b075d6d2e74f0f949e9a3eff4d6d34": {
      "model_module": "@jupyter-widgets/controls",
      "model_module_version": "1.5.0",
      "model_name": "DescriptionStyleModel",
      "state": {
       "_model_module": "@jupyter-widgets/controls",
       "_model_module_version": "1.5.0",
       "_model_name": "DescriptionStyleModel",
       "_view_count": null,
       "_view_module": "@jupyter-widgets/base",
       "_view_module_version": "1.2.0",
       "_view_name": "StyleView",
       "description_width": ""
      }
     },
     "336731d725534d7d8c6dacfa6ed44fad": {
      "model_module": "@jupyter-widgets/base",
      "model_module_version": "1.2.0",
      "model_name": "LayoutModel",
      "state": {
       "_model_module": "@jupyter-widgets/base",
       "_model_module_version": "1.2.0",
       "_model_name": "LayoutModel",
       "_view_count": null,
       "_view_module": "@jupyter-widgets/base",
       "_view_module_version": "1.2.0",
       "_view_name": "LayoutView",
       "align_content": null,
       "align_items": null,
       "align_self": null,
       "border": null,
       "bottom": null,
       "display": null,
       "flex": null,
       "flex_flow": null,
       "grid_area": null,
       "grid_auto_columns": null,
       "grid_auto_flow": null,
       "grid_auto_rows": null,
       "grid_column": null,
       "grid_gap": null,
       "grid_row": null,
       "grid_template_areas": null,
       "grid_template_columns": null,
       "grid_template_rows": null,
       "height": null,
       "justify_content": null,
       "justify_items": null,
       "left": null,
       "margin": null,
       "max_height": null,
       "max_width": null,
       "min_height": null,
       "min_width": null,
       "object_fit": null,
       "object_position": null,
       "order": null,
       "overflow": null,
       "overflow_x": null,
       "overflow_y": null,
       "padding": null,
       "right": null,
       "top": null,
       "visibility": null,
       "width": null
      }
     },
     "34423b82862a46f798960658e0c76f67": {
      "model_module": "@jupyter-widgets/base",
      "model_module_version": "1.2.0",
      "model_name": "LayoutModel",
      "state": {
       "_model_module": "@jupyter-widgets/base",
       "_model_module_version": "1.2.0",
       "_model_name": "LayoutModel",
       "_view_count": null,
       "_view_module": "@jupyter-widgets/base",
       "_view_module_version": "1.2.0",
       "_view_name": "LayoutView",
       "align_content": null,
       "align_items": null,
       "align_self": null,
       "border": null,
       "bottom": null,
       "display": null,
       "flex": null,
       "flex_flow": null,
       "grid_area": null,
       "grid_auto_columns": null,
       "grid_auto_flow": null,
       "grid_auto_rows": null,
       "grid_column": null,
       "grid_gap": null,
       "grid_row": null,
       "grid_template_areas": null,
       "grid_template_columns": null,
       "grid_template_rows": null,
       "height": null,
       "justify_content": null,
       "justify_items": null,
       "left": null,
       "margin": null,
       "max_height": null,
       "max_width": null,
       "min_height": null,
       "min_width": null,
       "object_fit": null,
       "object_position": null,
       "order": null,
       "overflow": null,
       "overflow_x": null,
       "overflow_y": null,
       "padding": null,
       "right": null,
       "top": null,
       "visibility": null,
       "width": null
      }
     },
     "37ba74f7d74345adad4a330f706f628b": {
      "model_module": "@jupyter-widgets/base",
      "model_module_version": "1.2.0",
      "model_name": "LayoutModel",
      "state": {
       "_model_module": "@jupyter-widgets/base",
       "_model_module_version": "1.2.0",
       "_model_name": "LayoutModel",
       "_view_count": null,
       "_view_module": "@jupyter-widgets/base",
       "_view_module_version": "1.2.0",
       "_view_name": "LayoutView",
       "align_content": null,
       "align_items": null,
       "align_self": null,
       "border": null,
       "bottom": null,
       "display": null,
       "flex": null,
       "flex_flow": null,
       "grid_area": null,
       "grid_auto_columns": null,
       "grid_auto_flow": null,
       "grid_auto_rows": null,
       "grid_column": null,
       "grid_gap": null,
       "grid_row": null,
       "grid_template_areas": null,
       "grid_template_columns": null,
       "grid_template_rows": null,
       "height": null,
       "justify_content": null,
       "justify_items": null,
       "left": null,
       "margin": null,
       "max_height": null,
       "max_width": null,
       "min_height": null,
       "min_width": null,
       "object_fit": null,
       "object_position": null,
       "order": null,
       "overflow": null,
       "overflow_x": null,
       "overflow_y": null,
       "padding": null,
       "right": null,
       "top": null,
       "visibility": null,
       "width": null
      }
     },
     "382e2245fa4f4b1ba591f763555c3e38": {
      "model_module": "@jupyter-widgets/base",
      "model_module_version": "1.2.0",
      "model_name": "LayoutModel",
      "state": {
       "_model_module": "@jupyter-widgets/base",
       "_model_module_version": "1.2.0",
       "_model_name": "LayoutModel",
       "_view_count": null,
       "_view_module": "@jupyter-widgets/base",
       "_view_module_version": "1.2.0",
       "_view_name": "LayoutView",
       "align_content": null,
       "align_items": null,
       "align_self": null,
       "border": null,
       "bottom": null,
       "display": null,
       "flex": null,
       "flex_flow": null,
       "grid_area": null,
       "grid_auto_columns": null,
       "grid_auto_flow": null,
       "grid_auto_rows": null,
       "grid_column": null,
       "grid_gap": null,
       "grid_row": null,
       "grid_template_areas": null,
       "grid_template_columns": null,
       "grid_template_rows": null,
       "height": null,
       "justify_content": null,
       "justify_items": null,
       "left": null,
       "margin": null,
       "max_height": null,
       "max_width": null,
       "min_height": null,
       "min_width": null,
       "object_fit": null,
       "object_position": null,
       "order": null,
       "overflow": null,
       "overflow_x": null,
       "overflow_y": null,
       "padding": null,
       "right": null,
       "top": null,
       "visibility": null,
       "width": null
      }
     },
     "3fd92a6b4be64132804cea19e5b52f4e": {
      "model_module": "@jupyter-widgets/base",
      "model_module_version": "1.2.0",
      "model_name": "LayoutModel",
      "state": {
       "_model_module": "@jupyter-widgets/base",
       "_model_module_version": "1.2.0",
       "_model_name": "LayoutModel",
       "_view_count": null,
       "_view_module": "@jupyter-widgets/base",
       "_view_module_version": "1.2.0",
       "_view_name": "LayoutView",
       "align_content": null,
       "align_items": null,
       "align_self": null,
       "border": null,
       "bottom": null,
       "display": null,
       "flex": null,
       "flex_flow": null,
       "grid_area": null,
       "grid_auto_columns": null,
       "grid_auto_flow": null,
       "grid_auto_rows": null,
       "grid_column": null,
       "grid_gap": null,
       "grid_row": null,
       "grid_template_areas": null,
       "grid_template_columns": null,
       "grid_template_rows": null,
       "height": null,
       "justify_content": null,
       "justify_items": null,
       "left": null,
       "margin": null,
       "max_height": null,
       "max_width": null,
       "min_height": null,
       "min_width": null,
       "object_fit": null,
       "object_position": null,
       "order": null,
       "overflow": null,
       "overflow_x": null,
       "overflow_y": null,
       "padding": null,
       "right": null,
       "top": null,
       "visibility": null,
       "width": null
      }
     },
     "45c841cad7754685801bccf183b28636": {
      "model_module": "@jupyter-widgets/controls",
      "model_module_version": "1.5.0",
      "model_name": "FloatProgressModel",
      "state": {
       "_dom_classes": [],
       "_model_module": "@jupyter-widgets/controls",
       "_model_module_version": "1.5.0",
       "_model_name": "FloatProgressModel",
       "_view_count": null,
       "_view_module": "@jupyter-widgets/controls",
       "_view_module_version": "1.5.0",
       "_view_name": "ProgressView",
       "bar_style": "success",
       "description": "",
       "description_tooltip": null,
       "layout": "IPY_MODEL_37ba74f7d74345adad4a330f706f628b",
       "max": 86660410.0,
       "min": 0.0,
       "orientation": "horizontal",
       "style": "IPY_MODEL_985fd75204eb4f01b6c2454d0f9c562b",
       "value": 86660410.0
      }
     },
     "49079b68c9fc481e876a8302919893b5": {
      "model_module": "@jupyter-widgets/controls",
      "model_module_version": "1.5.0",
      "model_name": "ProgressStyleModel",
      "state": {
       "_model_module": "@jupyter-widgets/controls",
       "_model_module_version": "1.5.0",
       "_model_name": "ProgressStyleModel",
       "_view_count": null,
       "_view_module": "@jupyter-widgets/base",
       "_view_module_version": "1.2.0",
       "_view_name": "StyleView",
       "bar_color": null,
       "description_width": ""
      }
     },
     "4df29a32dedf4d778123b18a2a5e1721": {
      "model_module": "@jupyter-widgets/controls",
      "model_module_version": "1.5.0",
      "model_name": "HBoxModel",
      "state": {
       "_dom_classes": [],
       "_model_module": "@jupyter-widgets/controls",
       "_model_module_version": "1.5.0",
       "_model_name": "HBoxModel",
       "_view_count": null,
       "_view_module": "@jupyter-widgets/controls",
       "_view_module_version": "1.5.0",
       "_view_name": "HBoxView",
       "box_style": "",
       "children": [
        "IPY_MODEL_f16a07b888b14863913e14ca14ec1628",
        "IPY_MODEL_45c841cad7754685801bccf183b28636",
        "IPY_MODEL_13ce8dec78ad4f979f5d75b044060c90"
       ],
       "layout": "IPY_MODEL_b5d807f29d7c47cfacac6a20e6c5a6ea"
      }
     },
     "54db386743cb4c2098b8ca9f8a912286": {
      "model_module": "@jupyter-widgets/controls",
      "model_module_version": "1.5.0",
      "model_name": "HBoxModel",
      "state": {
       "_dom_classes": [],
       "_model_module": "@jupyter-widgets/controls",
       "_model_module_version": "1.5.0",
       "_model_name": "HBoxModel",
       "_view_count": null,
       "_view_module": "@jupyter-widgets/controls",
       "_view_module_version": "1.5.0",
       "_view_name": "HBoxView",
       "box_style": "",
       "children": [
        "IPY_MODEL_78e8a1492c01473eb84d48f9b6dd5e61",
        "IPY_MODEL_db8d01f8dcb346469052812f14021714",
        "IPY_MODEL_07e08918dcf24ce687dd7ec8c769fd3c"
       ],
       "layout": "IPY_MODEL_3fd92a6b4be64132804cea19e5b52f4e"
      }
     },
     "65a3bfadd90a47d4ad4d83a80bc9233b": {
      "model_module": "@jupyter-widgets/controls",
      "model_module_version": "1.5.0",
      "model_name": "DescriptionStyleModel",
      "state": {
       "_model_module": "@jupyter-widgets/controls",
       "_model_module_version": "1.5.0",
       "_model_name": "DescriptionStyleModel",
       "_view_count": null,
       "_view_module": "@jupyter-widgets/base",
       "_view_module_version": "1.2.0",
       "_view_name": "StyleView",
       "description_width": ""
      }
     },
     "73f140b85c5a426bbce0dc075a00a9e0": {
      "model_module": "@jupyter-widgets/base",
      "model_module_version": "1.2.0",
      "model_name": "LayoutModel",
      "state": {
       "_model_module": "@jupyter-widgets/base",
       "_model_module_version": "1.2.0",
       "_model_name": "LayoutModel",
       "_view_count": null,
       "_view_module": "@jupyter-widgets/base",
       "_view_module_version": "1.2.0",
       "_view_name": "LayoutView",
       "align_content": null,
       "align_items": null,
       "align_self": null,
       "border": null,
       "bottom": null,
       "display": null,
       "flex": null,
       "flex_flow": null,
       "grid_area": null,
       "grid_auto_columns": null,
       "grid_auto_flow": null,
       "grid_auto_rows": null,
       "grid_column": null,
       "grid_gap": null,
       "grid_row": null,
       "grid_template_areas": null,
       "grid_template_columns": null,
       "grid_template_rows": null,
       "height": null,
       "justify_content": null,
       "justify_items": null,
       "left": null,
       "margin": null,
       "max_height": null,
       "max_width": null,
       "min_height": null,
       "min_width": null,
       "object_fit": null,
       "object_position": null,
       "order": null,
       "overflow": null,
       "overflow_x": null,
       "overflow_y": null,
       "padding": null,
       "right": null,
       "top": null,
       "visibility": null,
       "width": null
      }
     },
     "76b00afe34214d3a9fdabc69dfa1ca19": {
      "model_module": "@jupyter-widgets/controls",
      "model_module_version": "1.5.0",
      "model_name": "DescriptionStyleModel",
      "state": {
       "_model_module": "@jupyter-widgets/controls",
       "_model_module_version": "1.5.0",
       "_model_name": "DescriptionStyleModel",
       "_view_count": null,
       "_view_module": "@jupyter-widgets/base",
       "_view_module_version": "1.2.0",
       "_view_name": "StyleView",
       "description_width": ""
      }
     },
     "78cf54ac2c7446caad7712f0a260164d": {
      "model_module": "@jupyter-widgets/controls",
      "model_module_version": "1.5.0",
      "model_name": "HTMLModel",
      "state": {
       "_dom_classes": [],
       "_model_module": "@jupyter-widgets/controls",
       "_model_module_version": "1.5.0",
       "_model_name": "HTMLModel",
       "_view_count": null,
       "_view_module": "@jupyter-widgets/controls",
       "_view_module_version": "1.5.0",
       "_view_name": "HTMLView",
       "description": "",
       "description_tooltip": null,
       "layout": "IPY_MODEL_a4fa5b18f8894bab8f10a0df7f5fcf76",
       "placeholder": "​",
       "style": "IPY_MODEL_8435e8f8ced149d1819e133e1ad41bc8",
       "value": "100%"
      }
     },
     "78e8a1492c01473eb84d48f9b6dd5e61": {
      "model_module": "@jupyter-widgets/controls",
      "model_module_version": "1.5.0",
      "model_name": "HTMLModel",
      "state": {
       "_dom_classes": [],
       "_model_module": "@jupyter-widgets/controls",
       "_model_module_version": "1.5.0",
       "_model_name": "HTMLModel",
       "_view_count": null,
       "_view_module": "@jupyter-widgets/controls",
       "_view_module_version": "1.5.0",
       "_view_name": "HTMLView",
       "description": "",
       "description_tooltip": null,
       "layout": "IPY_MODEL_e91f900206f04c12b89726819b3f4939",
       "placeholder": "​",
       "style": "IPY_MODEL_65a3bfadd90a47d4ad4d83a80bc9233b",
       "value": "100%"
      }
     },
     "7bb3379018644fc3bdaac4c363364105": {
      "model_module": "@jupyter-widgets/controls",
      "model_module_version": "1.5.0",
      "model_name": "DescriptionStyleModel",
      "state": {
       "_model_module": "@jupyter-widgets/controls",
       "_model_module_version": "1.5.0",
       "_model_name": "DescriptionStyleModel",
       "_view_count": null,
       "_view_module": "@jupyter-widgets/base",
       "_view_module_version": "1.2.0",
       "_view_name": "StyleView",
       "description_width": ""
      }
     },
     "8435e8f8ced149d1819e133e1ad41bc8": {
      "model_module": "@jupyter-widgets/controls",
      "model_module_version": "1.5.0",
      "model_name": "DescriptionStyleModel",
      "state": {
       "_model_module": "@jupyter-widgets/controls",
       "_model_module_version": "1.5.0",
       "_model_name": "DescriptionStyleModel",
       "_view_count": null,
       "_view_module": "@jupyter-widgets/base",
       "_view_module_version": "1.2.0",
       "_view_name": "StyleView",
       "description_width": ""
      }
     },
     "8d5ea7f22dc94336924297cc6941a6af": {
      "model_module": "@jupyter-widgets/base",
      "model_module_version": "1.2.0",
      "model_name": "LayoutModel",
      "state": {
       "_model_module": "@jupyter-widgets/base",
       "_model_module_version": "1.2.0",
       "_model_name": "LayoutModel",
       "_view_count": null,
       "_view_module": "@jupyter-widgets/base",
       "_view_module_version": "1.2.0",
       "_view_name": "LayoutView",
       "align_content": null,
       "align_items": null,
       "align_self": null,
       "border": null,
       "bottom": null,
       "display": null,
       "flex": null,
       "flex_flow": null,
       "grid_area": null,
       "grid_auto_columns": null,
       "grid_auto_flow": null,
       "grid_auto_rows": null,
       "grid_column": null,
       "grid_gap": null,
       "grid_row": null,
       "grid_template_areas": null,
       "grid_template_columns": null,
       "grid_template_rows": null,
       "height": null,
       "justify_content": null,
       "justify_items": null,
       "left": null,
       "margin": null,
       "max_height": null,
       "max_width": null,
       "min_height": null,
       "min_width": null,
       "object_fit": null,
       "object_position": null,
       "order": null,
       "overflow": null,
       "overflow_x": null,
       "overflow_y": null,
       "padding": null,
       "right": null,
       "top": null,
       "visibility": null,
       "width": null
      }
     },
     "985fd75204eb4f01b6c2454d0f9c562b": {
      "model_module": "@jupyter-widgets/controls",
      "model_module_version": "1.5.0",
      "model_name": "ProgressStyleModel",
      "state": {
       "_model_module": "@jupyter-widgets/controls",
       "_model_module_version": "1.5.0",
       "_model_name": "ProgressStyleModel",
       "_view_count": null,
       "_view_module": "@jupyter-widgets/base",
       "_view_module_version": "1.2.0",
       "_view_name": "StyleView",
       "bar_color": null,
       "description_width": ""
      }
     },
     "a4fa5b18f8894bab8f10a0df7f5fcf76": {
      "model_module": "@jupyter-widgets/base",
      "model_module_version": "1.2.0",
      "model_name": "LayoutModel",
      "state": {
       "_model_module": "@jupyter-widgets/base",
       "_model_module_version": "1.2.0",
       "_model_name": "LayoutModel",
       "_view_count": null,
       "_view_module": "@jupyter-widgets/base",
       "_view_module_version": "1.2.0",
       "_view_name": "LayoutView",
       "align_content": null,
       "align_items": null,
       "align_self": null,
       "border": null,
       "bottom": null,
       "display": null,
       "flex": null,
       "flex_flow": null,
       "grid_area": null,
       "grid_auto_columns": null,
       "grid_auto_flow": null,
       "grid_auto_rows": null,
       "grid_column": null,
       "grid_gap": null,
       "grid_row": null,
       "grid_template_areas": null,
       "grid_template_columns": null,
       "grid_template_rows": null,
       "height": null,
       "justify_content": null,
       "justify_items": null,
       "left": null,
       "margin": null,
       "max_height": null,
       "max_width": null,
       "min_height": null,
       "min_width": null,
       "object_fit": null,
       "object_position": null,
       "order": null,
       "overflow": null,
       "overflow_x": null,
       "overflow_y": null,
       "padding": null,
       "right": null,
       "top": null,
       "visibility": null,
       "width": null
      }
     },
     "ac7492ef57be4e7cb3c0204514f0f407": {
      "model_module": "@jupyter-widgets/base",
      "model_module_version": "1.2.0",
      "model_name": "LayoutModel",
      "state": {
       "_model_module": "@jupyter-widgets/base",
       "_model_module_version": "1.2.0",
       "_model_name": "LayoutModel",
       "_view_count": null,
       "_view_module": "@jupyter-widgets/base",
       "_view_module_version": "1.2.0",
       "_view_name": "LayoutView",
       "align_content": null,
       "align_items": null,
       "align_self": null,
       "border": null,
       "bottom": null,
       "display": null,
       "flex": null,
       "flex_flow": null,
       "grid_area": null,
       "grid_auto_columns": null,
       "grid_auto_flow": null,
       "grid_auto_rows": null,
       "grid_column": null,
       "grid_gap": null,
       "grid_row": null,
       "grid_template_areas": null,
       "grid_template_columns": null,
       "grid_template_rows": null,
       "height": null,
       "justify_content": null,
       "justify_items": null,
       "left": null,
       "margin": null,
       "max_height": null,
       "max_width": null,
       "min_height": null,
       "min_width": null,
       "object_fit": null,
       "object_position": null,
       "order": null,
       "overflow": null,
       "overflow_x": null,
       "overflow_y": null,
       "padding": null,
       "right": null,
       "top": null,
       "visibility": null,
       "width": null
      }
     },
     "b2dd8be2e7304f90924a8bf944083e72": {
      "model_module": "@jupyter-widgets/controls",
      "model_module_version": "1.5.0",
      "model_name": "HTMLModel",
      "state": {
       "_dom_classes": [],
       "_model_module": "@jupyter-widgets/controls",
       "_model_module_version": "1.5.0",
       "_model_name": "HTMLModel",
       "_view_count": null,
       "_view_module": "@jupyter-widgets/controls",
       "_view_module_version": "1.5.0",
       "_view_name": "HTMLView",
       "description": "",
       "description_tooltip": null,
       "layout": "IPY_MODEL_34423b82862a46f798960658e0c76f67",
       "placeholder": "​",
       "style": "IPY_MODEL_b763a6b3e7624d72929cb3d71381b23c",
       "value": " 183/183 [00:09&lt;00:00, 21.79it/s]"
      }
     },
     "b5d807f29d7c47cfacac6a20e6c5a6ea": {
      "model_module": "@jupyter-widgets/base",
      "model_module_version": "1.2.0",
      "model_name": "LayoutModel",
      "state": {
       "_model_module": "@jupyter-widgets/base",
       "_model_module_version": "1.2.0",
       "_model_name": "LayoutModel",
       "_view_count": null,
       "_view_module": "@jupyter-widgets/base",
       "_view_module_version": "1.2.0",
       "_view_name": "LayoutView",
       "align_content": null,
       "align_items": null,
       "align_self": null,
       "border": null,
       "bottom": null,
       "display": null,
       "flex": null,
       "flex_flow": null,
       "grid_area": null,
       "grid_auto_columns": null,
       "grid_auto_flow": null,
       "grid_auto_rows": null,
       "grid_column": null,
       "grid_gap": null,
       "grid_row": null,
       "grid_template_areas": null,
       "grid_template_columns": null,
       "grid_template_rows": null,
       "height": null,
       "justify_content": null,
       "justify_items": null,
       "left": null,
       "margin": null,
       "max_height": null,
       "max_width": null,
       "min_height": null,
       "min_width": null,
       "object_fit": null,
       "object_position": null,
       "order": null,
       "overflow": null,
       "overflow_x": null,
       "overflow_y": null,
       "padding": null,
       "right": null,
       "top": null,
       "visibility": null,
       "width": null
      }
     },
     "b763a6b3e7624d72929cb3d71381b23c": {
      "model_module": "@jupyter-widgets/controls",
      "model_module_version": "1.5.0",
      "model_name": "DescriptionStyleModel",
      "state": {
       "_model_module": "@jupyter-widgets/controls",
       "_model_module_version": "1.5.0",
       "_model_name": "DescriptionStyleModel",
       "_view_count": null,
       "_view_module": "@jupyter-widgets/base",
       "_view_module_version": "1.2.0",
       "_view_name": "StyleView",
       "description_width": ""
      }
     },
     "c2b5b8b633504abe8a8c8771873f1a53": {
      "model_module": "@jupyter-widgets/base",
      "model_module_version": "1.2.0",
      "model_name": "LayoutModel",
      "state": {
       "_model_module": "@jupyter-widgets/base",
       "_model_module_version": "1.2.0",
       "_model_name": "LayoutModel",
       "_view_count": null,
       "_view_module": "@jupyter-widgets/base",
       "_view_module_version": "1.2.0",
       "_view_name": "LayoutView",
       "align_content": null,
       "align_items": null,
       "align_self": null,
       "border": null,
       "bottom": null,
       "display": null,
       "flex": null,
       "flex_flow": null,
       "grid_area": null,
       "grid_auto_columns": null,
       "grid_auto_flow": null,
       "grid_auto_rows": null,
       "grid_column": null,
       "grid_gap": null,
       "grid_row": null,
       "grid_template_areas": null,
       "grid_template_columns": null,
       "grid_template_rows": null,
       "height": null,
       "justify_content": null,
       "justify_items": null,
       "left": null,
       "margin": null,
       "max_height": null,
       "max_width": null,
       "min_height": null,
       "min_width": null,
       "object_fit": null,
       "object_position": null,
       "order": null,
       "overflow": null,
       "overflow_x": null,
       "overflow_y": null,
       "padding": null,
       "right": null,
       "top": null,
       "visibility": null,
       "width": null
      }
     },
     "db8d01f8dcb346469052812f14021714": {
      "model_module": "@jupyter-widgets/controls",
      "model_module_version": "1.5.0",
      "model_name": "FloatProgressModel",
      "state": {
       "_dom_classes": [],
       "_model_module": "@jupyter-widgets/controls",
       "_model_module_version": "1.5.0",
       "_model_name": "FloatProgressModel",
       "_view_count": null,
       "_view_module": "@jupyter-widgets/controls",
       "_view_module_version": "1.5.0",
       "_view_name": "ProgressView",
       "bar_style": "success",
       "description": "",
       "description_tooltip": null,
       "layout": "IPY_MODEL_8d5ea7f22dc94336924297cc6941a6af",
       "max": 736.0,
       "min": 0.0,
       "orientation": "horizontal",
       "style": "IPY_MODEL_49079b68c9fc481e876a8302919893b5",
       "value": 736.0
      }
     },
     "e91f900206f04c12b89726819b3f4939": {
      "model_module": "@jupyter-widgets/base",
      "model_module_version": "1.2.0",
      "model_name": "LayoutModel",
      "state": {
       "_model_module": "@jupyter-widgets/base",
       "_model_module_version": "1.2.0",
       "_model_name": "LayoutModel",
       "_view_count": null,
       "_view_module": "@jupyter-widgets/base",
       "_view_module_version": "1.2.0",
       "_view_name": "LayoutView",
       "align_content": null,
       "align_items": null,
       "align_self": null,
       "border": null,
       "bottom": null,
       "display": null,
       "flex": null,
       "flex_flow": null,
       "grid_area": null,
       "grid_auto_columns": null,
       "grid_auto_flow": null,
       "grid_auto_rows": null,
       "grid_column": null,
       "grid_gap": null,
       "grid_row": null,
       "grid_template_areas": null,
       "grid_template_columns": null,
       "grid_template_rows": null,
       "height": null,
       "justify_content": null,
       "justify_items": null,
       "left": null,
       "margin": null,
       "max_height": null,
       "max_width": null,
       "min_height": null,
       "min_width": null,
       "object_fit": null,
       "object_position": null,
       "order": null,
       "overflow": null,
       "overflow_x": null,
       "overflow_y": null,
       "padding": null,
       "right": null,
       "top": null,
       "visibility": null,
       "width": null
      }
     },
     "f16a07b888b14863913e14ca14ec1628": {
      "model_module": "@jupyter-widgets/controls",
      "model_module_version": "1.5.0",
      "model_name": "HTMLModel",
      "state": {
       "_dom_classes": [],
       "_model_module": "@jupyter-widgets/controls",
       "_model_module_version": "1.5.0",
       "_model_name": "HTMLModel",
       "_view_count": null,
       "_view_module": "@jupyter-widgets/controls",
       "_view_module_version": "1.5.0",
       "_view_name": "HTMLView",
       "description": "",
       "description_tooltip": null,
       "layout": "IPY_MODEL_336731d725534d7d8c6dacfa6ed44fad",
       "placeholder": "​",
       "style": "IPY_MODEL_76b00afe34214d3a9fdabc69dfa1ca19",
       "value": "Downloading model.safetensors: 100%"
      }
     }
    },
    "version_major": 2,
    "version_minor": 0
   }
  }
 },
 "nbformat": 4,
 "nbformat_minor": 5
}
